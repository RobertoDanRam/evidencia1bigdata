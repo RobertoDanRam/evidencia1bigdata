{
 "cells": [
  {
   "cell_type": "markdown",
   "id": "e905f880",
   "metadata": {},
   "source": [
    "## Collecting Flights data"
   ]
  },
  {
   "cell_type": "code",
   "execution_count": null,
   "id": "b6dfc88f",
   "metadata": {},
   "outputs": [],
   "source": [
    "#carga librerías para hacer peticiones y manejar json\n",
    "# importa la clave de la api desde otro archivo\n",
    "import requests\n",
    "import json\n",
    "from IPython.display import JSON\n",
    "from keys import *"
   ]
  },
  {
   "cell_type": "code",
   "execution_count": null,
   "id": "02e8fb1c",
   "metadata": {},
   "outputs": [],
   "source": [
    "# hace la petición a la api \n",
    "# usa la clave para  autenticar y guarda la respuesta\n",
    "url = \"https://aerodatabox.p.rapidapi.com/flights/airports/icao/EGPD/2025-09-01T08:00/2025-09-01T20:00\"\n",
    "\n",
    "querystring = {\"withLeg\":\"true\",\"direction\":\"Arrival\",\"withCancelled\":\"true\",\"withCodeshared\":\"true\",\"withCargo\":\"true\",\"withPrivate\":\"true\",\"withLocation\":\"false\"}\n",
    "\n",
    "headers = {\n",
    "    'x-rapidapi-host': \"aerodatabox.p.rapidapi.com\",\n",
    "    'x-rapidapi-key': flights_key\n",
    "    }\n",
    "\n",
    "response = requests.request(\"GET\", url, headers=headers, params=querystring)"
   ]
  },
  {
   "cell_type": "code",
   "execution_count": null,
   "id": "2bff7cff",
   "metadata": {},
   "outputs": [
    {
     "name": "stdout",
     "output_type": "stream",
     "text": [
      "Data appended to data.json file.\n"
     ]
    }
   ],
   "source": [
    "# es un ciclo if si la respuesta fue exitosa guarda los datos en un archivo json\n",
    "# si no existe el archivo lo crea y agrega los nuevos datos\n",
    "\n",
    "if response.status_code == 200:\n",
    "    new_data = response.json()\n",
    "\n",
    "    try:\n",
    "        with open(\"data.json\", \"r\") as json_file:\n",
    "            existing_data = json.load(json_file)\n",
    "    except (FileNotFoundError, json.decoder.JSONDecodeError):\n",
    "        existing_data = []\n",
    "\n",
    "    existing_data.append(new_data)\n",
    "\n",
    "    with open(\"data.json\", \"w\") as json_file:\n",
    "        json.dump(existing_data, json_file, indent=4)\n",
    "        print(\"Data appended to data.json file.\")\n",
    "else:\n",
    "    print(\"Failed to retrieve data from the API. Status code:\", response.status_code)"
   ]
  },
  {
   "cell_type": "code",
   "execution_count": null,
   "id": "2ef195ee",
   "metadata": {},
   "outputs": [],
   "source": [
    "# recorre los vuelos que llegaron y accede a sus datos principales\n",
    "flight_arrivals = response.json()\n",
    "#accede a los dato como hora, número, aeropuerto, avion y aerolinea\n",
    "\n",
    "for flight in flight_arrivals['arrivals']:\n",
    "    flight_arrivals['arrivals'][0]['arrival']['scheduledTime']\n",
    "    flight_arrivals['arrivals'][0]['number']\n",
    "    flight_arrivals['arrivals'][0]['departure']['airport']['name']\n",
    "    flight_arrivals['arrivals'][0]['aircraft']['model']\n",
    "    flight_arrivals['arrivals'][0]['airline']['name']"
   ]
  },
  {
   "cell_type": "code",
   "execution_count": null,
   "id": "8f8770ec",
   "metadata": {},
   "outputs": [
    {
     "name": "stdout",
     "output_type": "stream",
     "text": [
      "Shape of DataFrame: (42, 6)\n",
      "\n",
      "First few rows:\n"
     ]
    },
    {
     "data": {
      "text/html": [
       "<div>\n",
       "<style scoped>\n",
       "    .dataframe tbody tr th:only-of-type {\n",
       "        vertical-align: middle;\n",
       "    }\n",
       "\n",
       "    .dataframe tbody tr th {\n",
       "        vertical-align: top;\n",
       "    }\n",
       "\n",
       "    .dataframe thead th {\n",
       "        text-align: right;\n",
       "    }\n",
       "</style>\n",
       "<table border=\"1\" class=\"dataframe\">\n",
       "  <thead>\n",
       "    <tr style=\"text-align: right;\">\n",
       "      <th></th>\n",
       "      <th>scheduled_arrival_time_utc</th>\n",
       "      <th>scheduled_arrival_time_local</th>\n",
       "      <th>flight_number</th>\n",
       "      <th>from</th>\n",
       "      <th>airline</th>\n",
       "      <th>aircraft</th>\n",
       "    </tr>\n",
       "  </thead>\n",
       "  <tbody>\n",
       "    <tr>\n",
       "      <th>0</th>\n",
       "      <td>2025-09-01 07:30Z</td>\n",
       "      <td>2025-09-01 08:30+01:00</td>\n",
       "      <td>U2 615</td>\n",
       "      <td>London</td>\n",
       "      <td>easyJet</td>\n",
       "      <td>Airbus A319</td>\n",
       "    </tr>\n",
       "    <tr>\n",
       "      <th>1</th>\n",
       "      <td>2025-09-01 07:20Z</td>\n",
       "      <td>2025-09-01 08:20+01:00</td>\n",
       "      <td>WF 392</td>\n",
       "      <td>Bergen</td>\n",
       "      <td>Wideroe</td>\n",
       "      <td>Bombardier Dash 8 Q400 / DHC-8-400</td>\n",
       "    </tr>\n",
       "    <tr>\n",
       "      <th>2</th>\n",
       "      <td>2025-09-01 07:30Z</td>\n",
       "      <td>2025-09-01 08:30+01:00</td>\n",
       "      <td>BA 1304</td>\n",
       "      <td>London</td>\n",
       "      <td>British</td>\n",
       "      <td>Airbus A320</td>\n",
       "    </tr>\n",
       "    <tr>\n",
       "      <th>3</th>\n",
       "      <td>2025-09-01 07:20Z</td>\n",
       "      <td>2025-09-01 08:20+01:00</td>\n",
       "      <td>LM 31</td>\n",
       "      <td>Orkney</td>\n",
       "      <td>Loganair</td>\n",
       "      <td>ATR 42-300</td>\n",
       "    </tr>\n",
       "    <tr>\n",
       "      <th>4</th>\n",
       "      <td>2025-09-01 07:40Z</td>\n",
       "      <td>2025-09-01 08:40+01:00</td>\n",
       "      <td>KL 911</td>\n",
       "      <td>Amsterdam</td>\n",
       "      <td>KLM</td>\n",
       "      <td>Embraer 190</td>\n",
       "    </tr>\n",
       "  </tbody>\n",
       "</table>\n",
       "</div>"
      ],
      "text/plain": [
       "  scheduled_arrival_time_utc scheduled_arrival_time_local flight_number  \\\n",
       "0          2025-09-01 07:30Z       2025-09-01 08:30+01:00        U2 615   \n",
       "1          2025-09-01 07:20Z       2025-09-01 08:20+01:00        WF 392   \n",
       "2          2025-09-01 07:30Z       2025-09-01 08:30+01:00       BA 1304   \n",
       "3          2025-09-01 07:20Z       2025-09-01 08:20+01:00         LM 31   \n",
       "4          2025-09-01 07:40Z       2025-09-01 08:40+01:00        KL 911   \n",
       "\n",
       "        from   airline                            aircraft  \n",
       "0     London   easyJet                         Airbus A319  \n",
       "1     Bergen   Wideroe  Bombardier Dash 8 Q400 / DHC-8-400  \n",
       "2     London   British                         Airbus A320  \n",
       "3     Orkney  Loganair                          ATR 42-300  \n",
       "4  Amsterdam       KLM                         Embraer 190  "
      ]
     },
     "metadata": {},
     "output_type": "display_data"
    }
   ],
   "source": [
    "#importa pandas para manejar tablas y numpy por si hay valores vacíos\n",
    "import pandas as pd\n",
    "from numpy import nan\n",
    "\n",
    "#convierte la respuesta de la api en un diccionario de python y se guarda en flight_arrivals para poder trabajar con los datos\n",
    "\n",
    "flight_arrivals = response.json()\n",
    "\n",
    "def flight_extraction(flight):\n",
    "    #la hora viene dentro de otro objeto llamado scheduledTime\n",
    "    scheduled_time = flight['arrival'].get('scheduledTime', {})\n",
    "    return {\n",
    "        'scheduled_arrival_time_utc': scheduled_time.get('utc', 'N/A'),\n",
    "        'scheduled_arrival_time_local': scheduled_time.get('local', 'N/A'),\n",
    "        'flight_number': flight['number'],\n",
    "        'from': flight['departure']['airport']['name'],\n",
    "        'airline': flight['airline']['name'],\n",
    "        'aircraft': flight['aircraft']['model']\n",
    "    }\n",
    "\n",
    "if 'arrivals' in flight_arrivals:\n",
    "    #crea una lista con los datos de cada vuelo    \n",
    "    flights_data = [flight_extraction(flight) for flight in flight_arrivals['arrivals']]\n",
    "    \n",
    "    #   convierte la lista en un dataframe\n",
    "    flight_arrivals_df = pd.DataFrame(flights_data)\n",
    "    \n",
    "    #   muestra el tamaño y las primeras filas\n",
    "    print(\"Shape of DataFrame:\", flight_arrivals_df.shape)\n",
    "    print(\"\\nFirst few rows:\")\n",
    "    display(flight_arrivals_df.head())\n",
    "else:\n",
    "    print(\"No flight arrivals data found in the response\")\n",
    "\n",
    "    "
   ]
  }
 ],
 "metadata": {
  "kernelspec": {
   "display_name": "Python 3",
   "language": "python",
   "name": "python3"
  },
  "language_info": {
   "codemirror_mode": {
    "name": "ipython",
    "version": 3
   },
   "file_extension": ".py",
   "mimetype": "text/x-python",
   "name": "python",
   "nbconvert_exporter": "python",
   "pygments_lexer": "ipython3",
   "version": "3.11.9"
  }
 },
 "nbformat": 4,
 "nbformat_minor": 5
}
